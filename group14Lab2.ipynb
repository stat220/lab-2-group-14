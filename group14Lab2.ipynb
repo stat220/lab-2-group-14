{
  "nbformat": 4,
  "nbformat_minor": 0,
  "metadata": {
    "colab": {
      "provenance": []
    },
    "kernelspec": {
      "name": "python3",
      "display_name": "Python 3"
    },
    "language_info": {
      "name": "python"
    }
  },
  "cells": [
    {
      "cell_type": "markdown",
      "source": [
        "## **Scenario A**"
      ],
      "metadata": {
        "id": "NuJG1zaoYdPj"
      }
    },
    {
      "cell_type": "code",
      "execution_count": 1,
      "metadata": {
        "id": "Uw4eDeR7VJZf"
      },
      "outputs": [],
      "source": [
        "import itertools\n",
        "import numpy as np\n",
        "\n",
        "def prob_sum_greater_than(m: int, n: int, x: int):\n",
        "  \"\"\"\n",
        "  This function calculates the probabilty of the sum of 'm' dice with 'n' sides\n",
        "  each to be greater than the target sum 'x'.\n",
        "\n",
        "  Arguments:\n",
        "  m -- number of dice\n",
        "  n -- number of sides on each die\n",
        "  x -- target sum\n",
        "\n",
        "  Returns:\n",
        "  prob -- probability\n",
        "  \"\"\"\n",
        "  # Validate input parameters\n",
        "  if not (1 <= m <= 4):\n",
        "      raise ValueError(\"Number of dice 'm' must be between 1 and 4.\")\n",
        "  if not (1 <= n <= 20):\n",
        "      raise ValueError(\"Number of sides 'n' must be 20 or less.\")\n",
        "\n",
        "  # Generate all possible roll combinations\n",
        "  rolls = list(itertools.product(range(1, n + 1), repeat=m))\n",
        "\n",
        "  # Calculate the sum of each roll\n",
        "  sums = np.array([sum(roll) for roll in rolls])\n",
        "\n",
        "  # Calculate the probability\n",
        "  prob = np.mean(sums > x)\n",
        "\n",
        "  return prob\n"
      ]
    },
    {
      "cell_type": "markdown",
      "source": [
        "## **Scenario** **B**"
      ],
      "metadata": {
        "id": "WRVzZE69Z8qs"
      }
    },
    {
      "cell_type": "code",
      "source": [
        "def prob_one_die_greater_than(m: int, n: int, x: int):\n",
        "  \"\"\"\n",
        "  This function calculates the probabilty of rolling at least one die with\n",
        "  a value greater than or equal to 'x' when rolling 'm' dice with 'n' sides.\n",
        "\n",
        "  Arguments:\n",
        "  m -- number of dice\n",
        "  n -- number of sides on each die\n",
        "  x -- target number\n",
        "\n",
        "  Returns:\n",
        "  prob -- probability\n",
        "  \"\"\"\n",
        "  # Calculate the probability that a single die fails to meet the target\n",
        "  fail_probability = (x - 1) / n\n",
        "\n",
        "  # Probability that all dice fail to meet the target\n",
        "  all_fail_probability = fail_probability ** m\n",
        "\n",
        "  # Probability that at least one die meets or exceeds the target\n",
        "  prob = 1 - all_fail_probability\n",
        "\n",
        "  return prob\n"
      ],
      "metadata": {
        "id": "7KBSTO20aF8l"
      },
      "execution_count": 2,
      "outputs": []
    },
    {
      "cell_type": "markdown",
      "source": [
        "# **Situation** **1**"
      ],
      "metadata": {
        "id": "V1zYZSX6YCRH"
      }
    },
    {
      "cell_type": "code",
      "source": [
        "m1 = 1\n",
        "n1 = 20\n",
        "x1 = 16  #since the function A calculates greater than not greater than or equal to.\n",
        "\n",
        "prob_challenge1 = prob_sum_greater_than(m1, n1, x1)\n",
        "print(f\"The probability of rolling a sum of {x1 + 1} or more when rolling {m1} dice with {n1} sides is: {prob_challenge1}\")"
      ],
      "metadata": {
        "colab": {
          "base_uri": "https://localhost:8080/"
        },
        "id": "aZzsx6j4YFaD",
        "outputId": "1cb4d8ee-9f62-4bae-e5cd-82c259a917f1"
      },
      "execution_count": 4,
      "outputs": [
        {
          "output_type": "stream",
          "name": "stdout",
          "text": [
            "The probability of rolling a sum of 17 or more when rolling 1 dice with 20 sides is: 0.2\n"
          ]
        }
      ]
    },
    {
      "cell_type": "markdown",
      "source": [
        "# **Situation** **2**"
      ],
      "metadata": {
        "id": "vxhYQsLRYGW6"
      }
    },
    {
      "cell_type": "code",
      "source": [
        "m2 = 3\n",
        "n2 = 4\n",
        "x2 = 9  #since the function A calcualtes greater than not greater than or equal to.\n",
        "\n",
        "prob_challenge2 = prob_sum_greater_than(m2, n2, x2)\n",
        "print(f\"The probability of rolling a sum of {x2 + 1} or more when rolling {m2} dice with {n2} sides is: {prob_challenge2}\")"
      ],
      "metadata": {
        "colab": {
          "base_uri": "https://localhost:8080/"
        },
        "id": "iZgktAv3YLaH",
        "outputId": "45f28574-3e05-4132-9c34-27f6a4645b97"
      },
      "execution_count": 5,
      "outputs": [
        {
          "output_type": "stream",
          "name": "stdout",
          "text": [
            "The probability of rolling a sum of 10 or more when rolling 3 dice with 4 sides is: 0.15625\n"
          ]
        }
      ]
    },
    {
      "cell_type": "markdown",
      "source": [
        "# **Situation** **3**"
      ],
      "metadata": {
        "id": "ztQUo0_YYL_T"
      }
    },
    {
      "cell_type": "code",
      "source": [
        "m3 = 4\n",
        "n3 = 6\n",
        "x3 = 6\n",
        "\n",
        "prob_challenge3 = prob_one_die_greater_than(m3, n3, x3)\n",
        "print(f\"The probability of rolling at least one die with a value greater than or equal to {x3} when rolling {m3} dice with {n3} sides is: {prob_challenge3}\")"
      ],
      "metadata": {
        "colab": {
          "base_uri": "https://localhost:8080/"
        },
        "id": "dqd4APzoYPLt",
        "outputId": "eb754287-07c8-40a0-e954-d90a15e3a3f1"
      },
      "execution_count": 6,
      "outputs": [
        {
          "output_type": "stream",
          "name": "stdout",
          "text": [
            "The probability of rolling at least one die with a value greater than or equal to 6 when rolling 4 dice with 6 sides is: 0.5177469135802468\n"
          ]
        }
      ]
    },
    {
      "cell_type": "markdown",
      "source": [
        "# **Conclusion**\n",
        "From all these probabilities found, it is clear that situation C has the best odds of going in favor of the player with about a 52% chance of the player being successful. The next best option would be Situation A with a 20% chance of success. Finally, the worst option would be situation B where the chance of success is only about 16%."
      ],
      "metadata": {
        "id": "YNCVbPQRZwgx"
      }
    }
  ]
}